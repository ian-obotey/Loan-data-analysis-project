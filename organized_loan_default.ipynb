{
 "cells": [
  {
   "cell_type": "markdown",
   "id": "9e3738e9",
   "metadata": {},
   "source": [
    "**Loan default dataset analysis**"
   ]
  },
  {
   "cell_type": "markdown",
   "id": "53d2da2a",
   "metadata": {},
   "source": [
    "The loan default dataset contains information about borrowers who applied for loans, along with details about their financial status, loan characteristics, and repayment behavior. The goal is to perform an analysis and create a report that will assist loan providers in deciding who should be approved for a loan and who should not."
   ]
  },
  {
   "cell_type": "code",
   "execution_count": 206,
   "id": "b03b29e2",
   "metadata": {},
   "outputs": [],
   "source": [
    "#Importing Libraries \n",
    "\n",
    "import pandas as pd\n",
    "from datetime import datetime"
   ]
  },
  {
   "cell_type": "code",
   "execution_count": 207,
   "id": "b4c5be5e",
   "metadata": {},
   "outputs": [],
   "source": [
    "#Importing the datset\n",
    "\n",
    "loan_dataset = pd.read_csv(\"Loan_default.csv\")"
   ]
  },
  {
   "cell_type": "code",
   "execution_count": 208,
   "id": "52a993e2",
   "metadata": {},
   "outputs": [
    {
     "data": {
      "text/html": [
       "<div>\n",
       "<style scoped>\n",
       "    .dataframe tbody tr th:only-of-type {\n",
       "        vertical-align: middle;\n",
       "    }\n",
       "\n",
       "    .dataframe tbody tr th {\n",
       "        vertical-align: top;\n",
       "    }\n",
       "\n",
       "    .dataframe thead th {\n",
       "        text-align: right;\n",
       "    }\n",
       "</style>\n",
       "<table border=\"1\" class=\"dataframe\">\n",
       "  <thead>\n",
       "    <tr style=\"text-align: right;\">\n",
       "      <th></th>\n",
       "      <th>LoanID</th>\n",
       "      <th>Age</th>\n",
       "      <th>Income</th>\n",
       "      <th>LoanAmount</th>\n",
       "      <th>CreditScore</th>\n",
       "      <th>MonthsEmployed</th>\n",
       "      <th>NumCreditLines</th>\n",
       "      <th>InterestRate</th>\n",
       "      <th>LoanTerm</th>\n",
       "      <th>DTIRatio</th>\n",
       "      <th>Education</th>\n",
       "      <th>EmploymentType</th>\n",
       "      <th>MaritalStatus</th>\n",
       "      <th>HasMortgage</th>\n",
       "      <th>HasDependents</th>\n",
       "      <th>LoanPurpose</th>\n",
       "      <th>HasCoSigner</th>\n",
       "      <th>Default</th>\n",
       "      <th>Loan Date (DD/MM/YYYY)</th>\n",
       "    </tr>\n",
       "  </thead>\n",
       "  <tbody>\n",
       "    <tr>\n",
       "      <th>0</th>\n",
       "      <td>I38PQUQS96</td>\n",
       "      <td>56</td>\n",
       "      <td>85994</td>\n",
       "      <td>50587</td>\n",
       "      <td>520</td>\n",
       "      <td>80</td>\n",
       "      <td>4</td>\n",
       "      <td>15.23</td>\n",
       "      <td>36</td>\n",
       "      <td>0.44</td>\n",
       "      <td>Bachelor's</td>\n",
       "      <td>Full-time</td>\n",
       "      <td>Divorced</td>\n",
       "      <td>Yes</td>\n",
       "      <td>Yes</td>\n",
       "      <td>Other</td>\n",
       "      <td>Yes</td>\n",
       "      <td>0</td>\n",
       "      <td>10/15/2018</td>\n",
       "    </tr>\n",
       "    <tr>\n",
       "      <th>1</th>\n",
       "      <td>HPSK72WA7R</td>\n",
       "      <td>69</td>\n",
       "      <td>50432</td>\n",
       "      <td>124440</td>\n",
       "      <td>458</td>\n",
       "      <td>15</td>\n",
       "      <td>1</td>\n",
       "      <td>4.81</td>\n",
       "      <td>60</td>\n",
       "      <td>0.68</td>\n",
       "      <td>Master's</td>\n",
       "      <td>Full-time</td>\n",
       "      <td>Married</td>\n",
       "      <td>No</td>\n",
       "      <td>No</td>\n",
       "      <td>Other</td>\n",
       "      <td>Yes</td>\n",
       "      <td>0</td>\n",
       "      <td>3/25/2016</td>\n",
       "    </tr>\n",
       "    <tr>\n",
       "      <th>2</th>\n",
       "      <td>C1OZ6DPJ8Y</td>\n",
       "      <td>46</td>\n",
       "      <td>84208</td>\n",
       "      <td>129188</td>\n",
       "      <td>451</td>\n",
       "      <td>26</td>\n",
       "      <td>3</td>\n",
       "      <td>21.17</td>\n",
       "      <td>24</td>\n",
       "      <td>0.31</td>\n",
       "      <td>Master's</td>\n",
       "      <td>Unemployed</td>\n",
       "      <td>Divorced</td>\n",
       "      <td>Yes</td>\n",
       "      <td>Yes</td>\n",
       "      <td>Auto</td>\n",
       "      <td>No</td>\n",
       "      <td>1</td>\n",
       "      <td>11/11/2013</td>\n",
       "    </tr>\n",
       "    <tr>\n",
       "      <th>3</th>\n",
       "      <td>V2KKSFM3UN</td>\n",
       "      <td>32</td>\n",
       "      <td>31713</td>\n",
       "      <td>44799</td>\n",
       "      <td>743</td>\n",
       "      <td>0</td>\n",
       "      <td>3</td>\n",
       "      <td>7.07</td>\n",
       "      <td>24</td>\n",
       "      <td>0.23</td>\n",
       "      <td>High School</td>\n",
       "      <td>Full-time</td>\n",
       "      <td>Married</td>\n",
       "      <td>No</td>\n",
       "      <td>No</td>\n",
       "      <td>Business</td>\n",
       "      <td>No</td>\n",
       "      <td>0</td>\n",
       "      <td>6/22/2017</td>\n",
       "    </tr>\n",
       "    <tr>\n",
       "      <th>4</th>\n",
       "      <td>EY08JDHTZP</td>\n",
       "      <td>60</td>\n",
       "      <td>20437</td>\n",
       "      <td>9139</td>\n",
       "      <td>633</td>\n",
       "      <td>8</td>\n",
       "      <td>4</td>\n",
       "      <td>6.51</td>\n",
       "      <td>48</td>\n",
       "      <td>0.73</td>\n",
       "      <td>Bachelor's</td>\n",
       "      <td>Unemployed</td>\n",
       "      <td>Divorced</td>\n",
       "      <td>No</td>\n",
       "      <td>Yes</td>\n",
       "      <td>Auto</td>\n",
       "      <td>No</td>\n",
       "      <td>0</td>\n",
       "      <td>6/9/2014</td>\n",
       "    </tr>\n",
       "  </tbody>\n",
       "</table>\n",
       "</div>"
      ],
      "text/plain": [
       "       LoanID  Age  Income  LoanAmount  CreditScore  MonthsEmployed  \\\n",
       "0  I38PQUQS96   56   85994       50587          520              80   \n",
       "1  HPSK72WA7R   69   50432      124440          458              15   \n",
       "2  C1OZ6DPJ8Y   46   84208      129188          451              26   \n",
       "3  V2KKSFM3UN   32   31713       44799          743               0   \n",
       "4  EY08JDHTZP   60   20437        9139          633               8   \n",
       "\n",
       "   NumCreditLines  InterestRate  LoanTerm  DTIRatio    Education  \\\n",
       "0               4         15.23        36      0.44   Bachelor's   \n",
       "1               1          4.81        60      0.68     Master's   \n",
       "2               3         21.17        24      0.31     Master's   \n",
       "3               3          7.07        24      0.23  High School   \n",
       "4               4          6.51        48      0.73   Bachelor's   \n",
       "\n",
       "  EmploymentType MaritalStatus HasMortgage HasDependents LoanPurpose  \\\n",
       "0      Full-time      Divorced         Yes           Yes       Other   \n",
       "1      Full-time       Married          No            No       Other   \n",
       "2     Unemployed      Divorced         Yes           Yes        Auto   \n",
       "3      Full-time       Married          No            No    Business   \n",
       "4     Unemployed      Divorced          No           Yes        Auto   \n",
       "\n",
       "  HasCoSigner  Default Loan Date (DD/MM/YYYY)  \n",
       "0         Yes        0             10/15/2018  \n",
       "1         Yes        0              3/25/2016  \n",
       "2          No        1             11/11/2013  \n",
       "3          No        0              6/22/2017  \n",
       "4          No        0               6/9/2014  "
      ]
     },
     "execution_count": 208,
     "metadata": {},
     "output_type": "execute_result"
    }
   ],
   "source": [
    "#Dataset preview\n",
    "\n",
    "loan_dataset.head()"
   ]
  },
  {
   "cell_type": "code",
   "execution_count": 209,
   "id": "5e8b305b",
   "metadata": {},
   "outputs": [
    {
     "data": {
      "text/plain": [
       "(255347, 19)"
      ]
     },
     "execution_count": 209,
     "metadata": {},
     "output_type": "execute_result"
    }
   ],
   "source": [
    "#Finding the number of records\n",
    "\n",
    "loan_dataset.shape"
   ]
  },
  {
   "cell_type": "markdown",
   "id": "bbef2eb3",
   "metadata": {},
   "source": [
    "The dataset has 255347 borrowers with 19 metrics collected about them."
   ]
  },
  {
   "cell_type": "markdown",
   "id": "cab85363",
   "metadata": {},
   "source": [
    "**Features**"
   ]
  },
  {
   "cell_type": "code",
   "execution_count": 210,
   "id": "e8ee8856",
   "metadata": {},
   "outputs": [
    {
     "data": {
      "text/plain": [
       "Index(['LoanID', 'Age', 'Income', 'LoanAmount', 'CreditScore',\n",
       "       'MonthsEmployed', 'NumCreditLines', 'InterestRate', 'LoanTerm',\n",
       "       'DTIRatio', 'Education', 'EmploymentType', 'MaritalStatus',\n",
       "       'HasMortgage', 'HasDependents', 'LoanPurpose', 'HasCoSigner', 'Default',\n",
       "       'Loan Date (DD/MM/YYYY)'],\n",
       "      dtype='object')"
      ]
     },
     "execution_count": 210,
     "metadata": {},
     "output_type": "execute_result"
    }
   ],
   "source": [
    "loan_dataset.columns"
   ]
  },
  {
   "cell_type": "markdown",
   "id": "b6930dd1",
   "metadata": {},
   "source": [
    "**Data dictionary**"
   ]
  },
  {
   "cell_type": "markdown",
   "id": "870bb7ec",
   "metadata": {},
   "source": [
    "**LoanID**: A unique identifier for each loan in the datset\n",
    "\n",
    "**Age**: The borrower's age at the time the loan was issued\n",
    "\n",
    "**Income**: The borrower's annual income\n",
    "\n",
    "**LoanAmount**: The total amount of the loan that the borrower is\n",
    "                requesting or has been approved for\n",
    "\n",
    "**CreditScore**: A numerical representation of the borrower's creditworthiness,\n",
    "                typically ranging from 300 to 850. A higher credit score indicates\n",
    "                the borrower is more likely to repay the debt\n",
    "\n",
    "**MonthsEmployed**: The number of months the borrower has been employed their\n",
    "                    current job or with their current employer\n",
    "\n",
    "**NumCreditLines**: The total number of active credit lines(e.g credit cards,loans)\n",
    "                    the borrower has at the time of the loan\n",
    "\n",
    "**IntrestRate**: The annual percentage rate(APR) charged for borrowing the loan amount,\n",
    "                 usually expressed as a percentage\n",
    "\n",
    "**LoanTerm**: The length of time(in months) over which the loan is to be paid\n",
    "\n",
    "**DTIRatio**: The DTI ratio, which measures the borrower's debt payments relative to their\n",
    "              income. A higher ration can indicate greater financial stress\n",
    "\n",
    "**Education**: The highest level of education the borrower has completed(e.g High school,\n",
    "                Bachelor,Masters)\n",
    "\n",
    "**EmploymentType**: The type of employment the borrower is engaged in(E.g Full-Time,Part-Time,\n",
    "                    Self-employed)\n",
    "\n",
    "**Marital status**: The marital status of the borrowe(single,married or divorced)\n",
    "\n",
    "**HasMortgage**: An indicator(Yes/No) that shows whether the borrower has an existing mortgage\n",
    "                 on a property\n",
    "\n",
    "**HasDependents**: An indicator(Yes/No) that shows whether the borrower has dependents(children,\n",
    "                    other family members) to support\n",
    "\n",
    "**LoanPurpose**: The primary reason for taking the loan(Home purchase,Debt consolidation,Education)\n",
    "\n",
    "**HasCoSigner**: An indicator (Yes/No) that shows whether the borrower has a co-signer for the loan\n",
    "                (someone who agrees to take responsibility if the borower defaults)\n",
    "\n",
    "**Default**: An indicator(Yes/No) that shows whether the borrower defaulted on the loan or failed\n",
    "            to make timely payments.\n",
    "\n",
    "**Loan Date(DD/MM/YY)**: The date the loan was issued or originated"
   ]
  },
  {
   "cell_type": "code",
   "execution_count": 211,
   "id": "461d9287",
   "metadata": {},
   "outputs": [
    {
     "name": "stdout",
     "output_type": "stream",
     "text": [
      "<class 'pandas.core.frame.DataFrame'>\n",
      "RangeIndex: 255347 entries, 0 to 255346\n",
      "Data columns (total 19 columns):\n",
      " #   Column                  Non-Null Count   Dtype  \n",
      "---  ------                  --------------   -----  \n",
      " 0   LoanID                  255347 non-null  object \n",
      " 1   Age                     255347 non-null  int64  \n",
      " 2   Income                  255347 non-null  int64  \n",
      " 3   LoanAmount              255347 non-null  int64  \n",
      " 4   CreditScore             255347 non-null  int64  \n",
      " 5   MonthsEmployed          255347 non-null  int64  \n",
      " 6   NumCreditLines          255347 non-null  int64  \n",
      " 7   InterestRate            255347 non-null  float64\n",
      " 8   LoanTerm                255347 non-null  int64  \n",
      " 9   DTIRatio                255347 non-null  float64\n",
      " 10  Education               255347 non-null  object \n",
      " 11  EmploymentType          255347 non-null  object \n",
      " 12  MaritalStatus           255347 non-null  object \n",
      " 13  HasMortgage             255347 non-null  object \n",
      " 14  HasDependents           255347 non-null  object \n",
      " 15  LoanPurpose             255347 non-null  object \n",
      " 16  HasCoSigner             255347 non-null  object \n",
      " 17  Default                 255347 non-null  int64  \n",
      " 18  Loan Date (DD/MM/YYYY)  255347 non-null  object \n",
      "dtypes: float64(2), int64(8), object(9)\n",
      "memory usage: 37.0+ MB\n"
     ]
    }
   ],
   "source": [
    "#Inspecting columns\n",
    "\n",
    "loan_dataset.info()"
   ]
  },
  {
   "cell_type": "markdown",
   "id": "62addca7",
   "metadata": {},
   "source": [
    "The year column shows the expected format should be (DD/MM/YYYY) this is however not the case."
   ]
  },
  {
   "cell_type": "code",
   "execution_count": 212,
   "id": "ce74b2ae",
   "metadata": {},
   "outputs": [
    {
     "data": {
      "text/plain": [
       "0         10/15/2018\n",
       "1          3/25/2016\n",
       "2         11/11/2013\n",
       "3          6/22/2017\n",
       "4           6/9/2014\n",
       "             ...    \n",
       "255342     10/7/2017\n",
       "255343      1/1/2016\n",
       "255344      3/5/2017\n",
       "255345      4/5/2013\n",
       "255346     1/27/2015\n",
       "Name: Loan Date (DD/MM/YYYY), Length: 255347, dtype: object"
      ]
     },
     "execution_count": 212,
     "metadata": {},
     "output_type": "execute_result"
    }
   ],
   "source": [
    "loan_dataset[\"Loan Date (DD/MM/YYYY)\"]"
   ]
  },
  {
   "cell_type": "code",
   "execution_count": 213,
   "id": "aeacca42",
   "metadata": {},
   "outputs": [],
   "source": [
    "#Changing the date column to (DD/MM/YYYY)\n",
    "\n",
    "#Converting the date column to the appropiate format\n",
    "loan_dataset[\"Loan Date\"] = pd.to_datetime(loan_dataset[\"Loan Date (DD/MM/YYYY)\"],format=\"%m/%d/%Y\").dt.strftime(\"%d/%m/%Y\")"
   ]
  },
  {
   "cell_type": "code",
   "execution_count": 214,
   "id": "62ca5cdb",
   "metadata": {},
   "outputs": [
    {
     "data": {
      "text/plain": [
       "0         15/10/2018\n",
       "1         25/03/2016\n",
       "2         11/11/2013\n",
       "3         22/06/2017\n",
       "4         09/06/2014\n",
       "             ...    \n",
       "255342    07/10/2017\n",
       "255343    01/01/2016\n",
       "255344    05/03/2017\n",
       "255345    05/04/2013\n",
       "255346    27/01/2015\n",
       "Name: Loan Date, Length: 255347, dtype: object"
      ]
     },
     "execution_count": 214,
     "metadata": {},
     "output_type": "execute_result"
    }
   ],
   "source": [
    "# Confirming the date column has been formated appropiately\n",
    "loan_dataset[\"Loan Date\"]"
   ]
  },
  {
   "cell_type": "code",
   "execution_count": 215,
   "id": "c28c5e47",
   "metadata": {},
   "outputs": [
    {
     "data": {
      "text/plain": [
       "(255347, 20)"
      ]
     },
     "execution_count": 215,
     "metadata": {},
     "output_type": "execute_result"
    }
   ],
   "source": [
    "loan_dataset.shape"
   ]
  },
  {
   "cell_type": "code",
   "execution_count": 216,
   "id": "f760a2aa",
   "metadata": {},
   "outputs": [],
   "source": [
    "#Dropping the original date column\n",
    "\n",
    "loan_dataset.drop(columns=[\"Loan Date (DD/MM/YYYY)\"], inplace=True)"
   ]
  },
  {
   "cell_type": "code",
   "execution_count": 217,
   "id": "04128fad",
   "metadata": {},
   "outputs": [
    {
     "data": {
      "text/plain": [
       "(255347, 19)"
      ]
     },
     "execution_count": 217,
     "metadata": {},
     "output_type": "execute_result"
    }
   ],
   "source": [
    "loan_dataset.shape"
   ]
  },
  {
   "cell_type": "markdown",
   "id": "9eccd115",
   "metadata": {},
   "source": [
    "**Income colum analysis**"
   ]
  },
  {
   "cell_type": "code",
   "execution_count": 218,
   "id": "ca2b79a0",
   "metadata": {},
   "outputs": [
    {
     "data": {
      "text/plain": [
       "0         85994\n",
       "1         50432\n",
       "2         84208\n",
       "3         31713\n",
       "4         20437\n",
       "          ...  \n",
       "255342    37979\n",
       "255343    51953\n",
       "255344    84820\n",
       "255345    85109\n",
       "255346    22418\n",
       "Name: Income, Length: 255347, dtype: int64"
      ]
     },
     "execution_count": 218,
     "metadata": {},
     "output_type": "execute_result"
    }
   ],
   "source": [
    "loan_dataset[\"Income\"]"
   ]
  },
  {
   "cell_type": "code",
   "execution_count": 219,
   "id": "a6e280cf",
   "metadata": {},
   "outputs": [
    {
     "name": "stdout",
     "output_type": "stream",
     "text": [
      "149999\n",
      "15000\n"
     ]
    }
   ],
   "source": [
    "minimum_income = loan_dataset[\"Income\"].min()\n",
    "maximum_income = loan_dataset[\"Income\"].max()\n",
    "\n",
    "print(maximum_income)\n",
    "print(minimum_income)"
   ]
  },
  {
   "cell_type": "markdown",
   "id": "d69dcbe6",
   "metadata": {},
   "source": [
    "The levels of income ranges frrom **15000** to **149999**."
   ]
  },
  {
   "cell_type": "code",
   "execution_count": 220,
   "id": "78d04daf",
   "metadata": {},
   "outputs": [
    {
     "name": "stderr",
     "output_type": "stream",
     "text": [
      "C:\\Users\\ianob\\AppData\\Local\\Temp\\ipykernel_12928\\437166228.py:7: FutureWarning: The default of observed=False is deprecated and will be changed to True in a future version of pandas. Pass observed=False to retain current behavior or observed=True to adopt the future default and silence this warning.\n",
      "  grouped_loans = loan_dataset.groupby(['IncomeCategory', 'EmploymentType'])['LoanAmount'].sum().reset_index()\n"
     ]
    }
   ],
   "source": [
    "\n",
    "\n",
    "#categorizing the level of income in 4\n",
    "bins = [14999, 59999, 104999, 149999]\n",
    "labels = ['Low Income', 'Medium Income', 'High Income']\n",
    "loan_dataset['IncomeCategory'] = pd.cut(loan_dataset['Income'], bins=bins, labels=labels)\n",
    "\n",
    "#Group by IncomeCategory and EmploymentType, then sum loan amounts\n",
    "grouped_loans = loan_dataset.groupby(['IncomeCategory', 'EmploymentType'])['LoanAmount'].sum().reset_index()\n",
    "grouped_loans.rename(columns={'LoanAmount': 'TotalLoanAmount'}, inplace=True)\n",
    "\n",
    "# Step 4: Export to CSV\n",
    "grouped_loans.to_csv(\"loan_sum_by_income_and__employment.csv\", index=False)\n"
   ]
  },
  {
   "cell_type": "code",
   "execution_count": 221,
   "id": "e5acd782",
   "metadata": {},
   "outputs": [
    {
     "data": {
      "text/html": [
       "<div>\n",
       "<style scoped>\n",
       "    .dataframe tbody tr th:only-of-type {\n",
       "        vertical-align: middle;\n",
       "    }\n",
       "\n",
       "    .dataframe tbody tr th {\n",
       "        vertical-align: top;\n",
       "    }\n",
       "\n",
       "    .dataframe thead th {\n",
       "        text-align: right;\n",
       "    }\n",
       "</style>\n",
       "<table border=\"1\" class=\"dataframe\">\n",
       "  <thead>\n",
       "    <tr style=\"text-align: right;\">\n",
       "      <th></th>\n",
       "      <th>IncomeCategory</th>\n",
       "      <th>EmploymentType</th>\n",
       "      <th>TotalLoanAmount</th>\n",
       "    </tr>\n",
       "  </thead>\n",
       "  <tbody>\n",
       "    <tr>\n",
       "      <th>0</th>\n",
       "      <td>Low Income</td>\n",
       "      <td>Full-time</td>\n",
       "      <td>2669960076</td>\n",
       "    </tr>\n",
       "    <tr>\n",
       "      <th>1</th>\n",
       "      <td>Low Income</td>\n",
       "      <td>Part-time</td>\n",
       "      <td>2731764200</td>\n",
       "    </tr>\n",
       "    <tr>\n",
       "      <th>2</th>\n",
       "      <td>Low Income</td>\n",
       "      <td>Self-employed</td>\n",
       "      <td>2690887374</td>\n",
       "    </tr>\n",
       "    <tr>\n",
       "      <th>3</th>\n",
       "      <td>Low Income</td>\n",
       "      <td>Unemployed</td>\n",
       "      <td>2752711341</td>\n",
       "    </tr>\n",
       "    <tr>\n",
       "      <th>4</th>\n",
       "      <td>Medium Income</td>\n",
       "      <td>Full-time</td>\n",
       "      <td>2722590175</td>\n",
       "    </tr>\n",
       "    <tr>\n",
       "      <th>5</th>\n",
       "      <td>Medium Income</td>\n",
       "      <td>Part-time</td>\n",
       "      <td>2728551426</td>\n",
       "    </tr>\n",
       "    <tr>\n",
       "      <th>6</th>\n",
       "      <td>Medium Income</td>\n",
       "      <td>Self-employed</td>\n",
       "      <td>2709549564</td>\n",
       "    </tr>\n",
       "    <tr>\n",
       "      <th>7</th>\n",
       "      <td>Medium Income</td>\n",
       "      <td>Unemployed</td>\n",
       "      <td>2714816973</td>\n",
       "    </tr>\n",
       "    <tr>\n",
       "      <th>8</th>\n",
       "      <td>High Income</td>\n",
       "      <td>Full-time</td>\n",
       "      <td>2721671577</td>\n",
       "    </tr>\n",
       "    <tr>\n",
       "      <th>9</th>\n",
       "      <td>High Income</td>\n",
       "      <td>Part-time</td>\n",
       "      <td>2709285442</td>\n",
       "    </tr>\n",
       "    <tr>\n",
       "      <th>10</th>\n",
       "      <td>High Income</td>\n",
       "      <td>Self-employed</td>\n",
       "      <td>2718045487</td>\n",
       "    </tr>\n",
       "    <tr>\n",
       "      <th>11</th>\n",
       "      <td>High Income</td>\n",
       "      <td>Unemployed</td>\n",
       "      <td>2707046937</td>\n",
       "    </tr>\n",
       "  </tbody>\n",
       "</table>\n",
       "</div>"
      ],
      "text/plain": [
       "   IncomeCategory EmploymentType  TotalLoanAmount\n",
       "0      Low Income      Full-time       2669960076\n",
       "1      Low Income      Part-time       2731764200\n",
       "2      Low Income  Self-employed       2690887374\n",
       "3      Low Income     Unemployed       2752711341\n",
       "4   Medium Income      Full-time       2722590175\n",
       "5   Medium Income      Part-time       2728551426\n",
       "6   Medium Income  Self-employed       2709549564\n",
       "7   Medium Income     Unemployed       2714816973\n",
       "8     High Income      Full-time       2721671577\n",
       "9     High Income      Part-time       2709285442\n",
       "10    High Income  Self-employed       2718045487\n",
       "11    High Income     Unemployed       2707046937"
      ]
     },
     "execution_count": 221,
     "metadata": {},
     "output_type": "execute_result"
    }
   ],
   "source": [
    "grouped_loans"
   ]
  },
  {
   "cell_type": "markdown",
   "id": "6ff822fa",
   "metadata": {},
   "source": [
    "**Credit score analysis**"
   ]
  },
  {
   "cell_type": "code",
   "execution_count": 222,
   "id": "dde658a8",
   "metadata": {},
   "outputs": [
    {
     "data": {
      "text/plain": [
       "0         520\n",
       "1         458\n",
       "2         451\n",
       "3         743\n",
       "4         633\n",
       "         ... \n",
       "255342    541\n",
       "255343    511\n",
       "255344    597\n",
       "255345    809\n",
       "255346    636\n",
       "Name: CreditScore, Length: 255347, dtype: int64"
      ]
     },
     "execution_count": 222,
     "metadata": {},
     "output_type": "execute_result"
    }
   ],
   "source": [
    "loan_dataset[\"CreditScore\"]"
   ]
  },
  {
   "cell_type": "code",
   "execution_count": 223,
   "id": "d3495b2c",
   "metadata": {},
   "outputs": [],
   "source": [
    "max_credit_score = loan_dataset[\"CreditScore\"].max()\n",
    "minimum_credit_score = loan_dataset[\"CreditScore\"].min()"
   ]
  },
  {
   "cell_type": "code",
   "execution_count": 224,
   "id": "c1cb9ccc",
   "metadata": {},
   "outputs": [
    {
     "name": "stdout",
     "output_type": "stream",
     "text": [
      "849\n",
      "300\n"
     ]
    }
   ],
   "source": [
    "print(max_credit_score)\n",
    "print(minimum_credit_score)"
   ]
  },
  {
   "cell_type": "markdown",
   "id": "36b7f49b",
   "metadata": {},
   "source": [
    "Credit scores, ranging from 300 to 849, are grouped into categories from Very Low to High. The analysis below evaluates the median loan amount within each credit score category"
   ]
  },
  {
   "cell_type": "code",
   "execution_count": 225,
   "id": "6f7806e7",
   "metadata": {},
   "outputs": [
    {
     "name": "stderr",
     "output_type": "stream",
     "text": [
      "C:\\Users\\ianob\\AppData\\Local\\Temp\\ipykernel_12928\\2294234313.py:8: FutureWarning: The default of observed=False is deprecated and will be changed to True in a future version of pandas. Pass observed=False to retain current behavior or observed=True to adopt the future default and silence this warning.\n",
      "  median_loan_by_score = loan_dataset.groupby(\"ScoreCategory\")[\"LoanAmount\"].median().reset_index()\n"
     ]
    }
   ],
   "source": [
    "bins = [200,362,525,688,849]\n",
    "labels = [ \"Very Low\",\"Low\",\"Medium\",\"High\"]\n",
    "\n",
    "#Categorizing credit scores into groups\n",
    "loan_dataset[\"ScoreCategory\"] = pd.cut(loan_dataset[\"CreditScore\"],bins=bins,labels=labels)\n",
    "\n",
    "#Calculating the median score by category\n",
    "median_loan_by_score = loan_dataset.groupby(\"ScoreCategory\")[\"LoanAmount\"].median().reset_index()\n",
    "\n",
    "#Exporting to CSV\n",
    "median_loan_by_score.to_csv(\"Median_loan_by_score.csv\",index=False)\n",
    "\n"
   ]
  },
  {
   "cell_type": "code",
   "execution_count": 226,
   "id": "fd1f915e",
   "metadata": {},
   "outputs": [
    {
     "data": {
      "text/html": [
       "<div>\n",
       "<style scoped>\n",
       "    .dataframe tbody tr th:only-of-type {\n",
       "        vertical-align: middle;\n",
       "    }\n",
       "\n",
       "    .dataframe tbody tr th {\n",
       "        vertical-align: top;\n",
       "    }\n",
       "\n",
       "    .dataframe thead th {\n",
       "        text-align: right;\n",
       "    }\n",
       "</style>\n",
       "<table border=\"1\" class=\"dataframe\">\n",
       "  <thead>\n",
       "    <tr style=\"text-align: right;\">\n",
       "      <th></th>\n",
       "      <th>ScoreCategory</th>\n",
       "      <th>LoanAmount</th>\n",
       "    </tr>\n",
       "  </thead>\n",
       "  <tbody>\n",
       "    <tr>\n",
       "      <th>0</th>\n",
       "      <td>Very Low</td>\n",
       "      <td>127227.0</td>\n",
       "    </tr>\n",
       "    <tr>\n",
       "      <th>1</th>\n",
       "      <td>Low</td>\n",
       "      <td>128019.0</td>\n",
       "    </tr>\n",
       "    <tr>\n",
       "      <th>2</th>\n",
       "      <td>Medium</td>\n",
       "      <td>127795.0</td>\n",
       "    </tr>\n",
       "    <tr>\n",
       "      <th>3</th>\n",
       "      <td>High</td>\n",
       "      <td>127015.0</td>\n",
       "    </tr>\n",
       "  </tbody>\n",
       "</table>\n",
       "</div>"
      ],
      "text/plain": [
       "  ScoreCategory  LoanAmount\n",
       "0      Very Low    127227.0\n",
       "1           Low    128019.0\n",
       "2        Medium    127795.0\n",
       "3          High    127015.0"
      ]
     },
     "execution_count": 226,
     "metadata": {},
     "output_type": "execute_result"
    }
   ],
   "source": [
    "median_loan_by_score"
   ]
  },
  {
   "cell_type": "markdown",
   "id": "e96d7717",
   "metadata": {},
   "source": [
    "**Analysis of Loan amount by Year**"
   ]
  },
  {
   "cell_type": "code",
   "execution_count": 227,
   "id": "101d7393",
   "metadata": {},
   "outputs": [
    {
     "name": "stderr",
     "output_type": "stream",
     "text": [
      "C:\\Users\\ianob\\AppData\\Local\\Temp\\ipykernel_12928\\898462524.py:2: UserWarning: Parsing dates in %d/%m/%Y format when dayfirst=False (the default) was specified. Pass `dayfirst=True` or specify a format to silence this warning.\n",
      "  loan_dataset[\"LoanYear\"] = pd.to_datetime(loan_dataset[\"Loan Date\"]).dt.year\n"
     ]
    }
   ],
   "source": [
    "#Extracting the year column from the datset\n",
    "loan_dataset[\"LoanYear\"] = pd.to_datetime(loan_dataset[\"Loan Date\"]).dt.year\n",
    "\n",
    "#Aggregating the loan amount per year\n",
    "loan_amount_by_year = loan_dataset.groupby(\"LoanYear\")[\"LoanAmount\"].sum().reset_index()\n",
    "\n",
    "loan_amount_by_year.to_csv(\"loan_amount_by_year.csv\",index=False)"
   ]
  },
  {
   "cell_type": "code",
   "execution_count": 228,
   "id": "81e2af4c",
   "metadata": {},
   "outputs": [
    {
     "data": {
      "text/html": [
       "<div>\n",
       "<style scoped>\n",
       "    .dataframe tbody tr th:only-of-type {\n",
       "        vertical-align: middle;\n",
       "    }\n",
       "\n",
       "    .dataframe tbody tr th {\n",
       "        vertical-align: top;\n",
       "    }\n",
       "\n",
       "    .dataframe thead th {\n",
       "        text-align: right;\n",
       "    }\n",
       "</style>\n",
       "<table border=\"1\" class=\"dataframe\">\n",
       "  <thead>\n",
       "    <tr style=\"text-align: right;\">\n",
       "      <th></th>\n",
       "      <th>LoanYear</th>\n",
       "      <th>LoanAmount</th>\n",
       "    </tr>\n",
       "  </thead>\n",
       "  <tbody>\n",
       "    <tr>\n",
       "      <th>0</th>\n",
       "      <td>2013</td>\n",
       "      <td>5456934410</td>\n",
       "    </tr>\n",
       "    <tr>\n",
       "      <th>1</th>\n",
       "      <td>2014</td>\n",
       "      <td>5373404266</td>\n",
       "    </tr>\n",
       "    <tr>\n",
       "      <th>2</th>\n",
       "      <td>2015</td>\n",
       "      <td>5443296583</td>\n",
       "    </tr>\n",
       "    <tr>\n",
       "      <th>3</th>\n",
       "      <td>2016</td>\n",
       "      <td>5442736635</td>\n",
       "    </tr>\n",
       "    <tr>\n",
       "      <th>4</th>\n",
       "      <td>2017</td>\n",
       "      <td>5383718289</td>\n",
       "    </tr>\n",
       "    <tr>\n",
       "      <th>5</th>\n",
       "      <td>2018</td>\n",
       "      <td>5476790389</td>\n",
       "    </tr>\n",
       "  </tbody>\n",
       "</table>\n",
       "</div>"
      ],
      "text/plain": [
       "   LoanYear  LoanAmount\n",
       "0      2013  5456934410\n",
       "1      2014  5373404266\n",
       "2      2015  5443296583\n",
       "3      2016  5442736635\n",
       "4      2017  5383718289\n",
       "5      2018  5476790389"
      ]
     },
     "execution_count": 228,
     "metadata": {},
     "output_type": "execute_result"
    }
   ],
   "source": [
    "loan_amount_by_year"
   ]
  },
  {
   "cell_type": "code",
   "execution_count": 229,
   "id": "a0ec11a0",
   "metadata": {},
   "outputs": [
    {
     "data": {
      "text/plain": [
       "LoanYear            2018\n",
       "LoanAmount    5476790389\n",
       "dtype: int64"
      ]
     },
     "execution_count": 229,
     "metadata": {},
     "output_type": "execute_result"
    }
   ],
   "source": [
    "loan_amount_by_year.max()"
   ]
  },
  {
   "cell_type": "markdown",
   "id": "68f0f54b",
   "metadata": {},
   "source": [
    "**Analyzing the loan amounts issued by purpose**"
   ]
  },
  {
   "cell_type": "code",
   "execution_count": 230,
   "id": "548a8764",
   "metadata": {},
   "outputs": [
    {
     "data": {
      "text/plain": [
       "LoanPurpose\n",
       "Business     51298\n",
       "Home         51286\n",
       "Education    51005\n",
       "Other        50914\n",
       "Auto         50844\n",
       "Name: count, dtype: int64"
      ]
     },
     "execution_count": 230,
     "metadata": {},
     "output_type": "execute_result"
    }
   ],
   "source": [
    "loan_dataset[\"LoanPurpose\"].value_counts()"
   ]
  },
  {
   "cell_type": "code",
   "execution_count": 231,
   "id": "270f90a8",
   "metadata": {},
   "outputs": [],
   "source": [
    "loan_amount_by_purpose = loan_dataset.groupby(\"LoanPurpose\")[\"LoanAmount\"].sum().reset_index()\n",
    "loan_amount_by_purpose.to_csv(\"loan_amount_by_purpose.csv\", index=False)\n"
   ]
  },
  {
   "cell_type": "code",
   "execution_count": 232,
   "id": "b3f8e2a6",
   "metadata": {},
   "outputs": [
    {
     "data": {
      "text/html": [
       "<div>\n",
       "<style scoped>\n",
       "    .dataframe tbody tr th:only-of-type {\n",
       "        vertical-align: middle;\n",
       "    }\n",
       "\n",
       "    .dataframe tbody tr th {\n",
       "        vertical-align: top;\n",
       "    }\n",
       "\n",
       "    .dataframe thead th {\n",
       "        text-align: right;\n",
       "    }\n",
       "</style>\n",
       "<table border=\"1\" class=\"dataframe\">\n",
       "  <thead>\n",
       "    <tr style=\"text-align: right;\">\n",
       "      <th></th>\n",
       "      <th>LoanPurpose</th>\n",
       "      <th>LoanAmount</th>\n",
       "    </tr>\n",
       "  </thead>\n",
       "  <tbody>\n",
       "    <tr>\n",
       "      <th>0</th>\n",
       "      <td>Auto</td>\n",
       "      <td>6500807511</td>\n",
       "    </tr>\n",
       "    <tr>\n",
       "      <th>1</th>\n",
       "      <td>Business</td>\n",
       "      <td>6522120439</td>\n",
       "    </tr>\n",
       "    <tr>\n",
       "      <th>2</th>\n",
       "      <td>Education</td>\n",
       "      <td>6510575194</td>\n",
       "    </tr>\n",
       "    <tr>\n",
       "      <th>3</th>\n",
       "      <td>Home</td>\n",
       "      <td>6545241527</td>\n",
       "    </tr>\n",
       "    <tr>\n",
       "      <th>4</th>\n",
       "      <td>Other</td>\n",
       "      <td>6498135901</td>\n",
       "    </tr>\n",
       "  </tbody>\n",
       "</table>\n",
       "</div>"
      ],
      "text/plain": [
       "  LoanPurpose  LoanAmount\n",
       "0        Auto  6500807511\n",
       "1    Business  6522120439\n",
       "2   Education  6510575194\n",
       "3        Home  6545241527\n",
       "4       Other  6498135901"
      ]
     },
     "execution_count": 232,
     "metadata": {},
     "output_type": "execute_result"
    }
   ],
   "source": [
    "loan_amount_by_purpose"
   ]
  },
  {
   "cell_type": "markdown",
   "id": "0c1f720e",
   "metadata": {},
   "source": [
    "**Average loan amount issued by age groups**"
   ]
  },
  {
   "cell_type": "code",
   "execution_count": 233,
   "id": "7becc71d",
   "metadata": {},
   "outputs": [
    {
     "data": {
      "text/plain": [
       "0         56\n",
       "1         69\n",
       "2         46\n",
       "3         32\n",
       "4         60\n",
       "          ..\n",
       "255342    19\n",
       "255343    32\n",
       "255344    56\n",
       "255345    42\n",
       "255346    62\n",
       "Name: Age, Length: 255347, dtype: int64"
      ]
     },
     "execution_count": 233,
     "metadata": {},
     "output_type": "execute_result"
    }
   ],
   "source": [
    "#Checking the age column\n",
    "loan_dataset[\"Age\"]"
   ]
  },
  {
   "cell_type": "code",
   "execution_count": 234,
   "id": "634b7c46",
   "metadata": {},
   "outputs": [
    {
     "name": "stdout",
     "output_type": "stream",
     "text": [
      "69\n",
      "18\n"
     ]
    }
   ],
   "source": [
    "maximum_age = loan_dataset[\"Age\"].max()\n",
    "minimum_age = loan_dataset[\"Age\"].min()\n",
    "print(maximum_age)\n",
    "print(minimum_age)"
   ]
  },
  {
   "cell_type": "code",
   "execution_count": 235,
   "id": "71a6f54a",
   "metadata": {},
   "outputs": [
    {
     "name": "stderr",
     "output_type": "stream",
     "text": [
      "C:\\Users\\ianob\\AppData\\Local\\Temp\\ipykernel_12928\\3067527072.py:11: FutureWarning: The default of observed=False is deprecated and will be changed to True in a future version of pandas. Pass observed=False to retain current behavior or observed=True to adopt the future default and silence this warning.\n",
      "  age_group_summary = loan_dataset.groupby(\"AgeGroup\")[\"LoanAmount\"].agg(AverageLoanAmount=\"mean\").reset_index()\n"
     ]
    }
   ],
   "source": [
    "#Creating age groups\n",
    "\n",
    "bins = [18,25,45,60,70]\n",
    "\n",
    "labels = [\"Teen\",\"Adults\",\"Middle Age Aduls\",\"Senior Citizen\"]\n",
    "\n",
    "#Creating the age group column\n",
    "\n",
    "loan_dataset[\"AgeGroup\"] = pd.cut(loan_dataset[\"Age\"],bins=bins,labels=labels)\n",
    "\n",
    "age_group_summary = loan_dataset.groupby(\"AgeGroup\")[\"LoanAmount\"].agg(AverageLoanAmount=\"mean\").reset_index()\n",
    "\n",
    "age_group_summary[\"AverageLoanAmount\"] = age_group_summary[\"AverageLoanAmount\"].round(2)\n",
    "\n",
    "age_group_summary.to_csv(\"age_group_loan.csv\",index=False)\n",
    "\n"
   ]
  },
  {
   "cell_type": "markdown",
   "id": "dd98895a",
   "metadata": {},
   "source": [
    "**Analyzing the loan amount amount by type of employment**"
   ]
  },
  {
   "cell_type": "code",
   "execution_count": 236,
   "id": "121d85d8",
   "metadata": {},
   "outputs": [],
   "source": [
    "loan_amount_by_employment = loan_dataset.groupby(\"EmploymentType\")[\"LoanAmount\"].sum().reset_index()\n",
    "loan_amount_by_employment.to_csv(\"loan_amount_by_employment.csv\", index=False)\n"
   ]
  },
  {
   "cell_type": "code",
   "execution_count": 237,
   "id": "7c0e755d",
   "metadata": {},
   "outputs": [
    {
     "data": {
      "text/html": [
       "<div>\n",
       "<style scoped>\n",
       "    .dataframe tbody tr th:only-of-type {\n",
       "        vertical-align: middle;\n",
       "    }\n",
       "\n",
       "    .dataframe tbody tr th {\n",
       "        vertical-align: top;\n",
       "    }\n",
       "\n",
       "    .dataframe thead th {\n",
       "        text-align: right;\n",
       "    }\n",
       "</style>\n",
       "<table border=\"1\" class=\"dataframe\">\n",
       "  <thead>\n",
       "    <tr style=\"text-align: right;\">\n",
       "      <th></th>\n",
       "      <th>EmploymentType</th>\n",
       "      <th>LoanAmount</th>\n",
       "    </tr>\n",
       "  </thead>\n",
       "  <tbody>\n",
       "    <tr>\n",
       "      <th>0</th>\n",
       "      <td>Full-time</td>\n",
       "      <td>8114221828</td>\n",
       "    </tr>\n",
       "    <tr>\n",
       "      <th>1</th>\n",
       "      <td>Part-time</td>\n",
       "      <td>8169601068</td>\n",
       "    </tr>\n",
       "    <tr>\n",
       "      <th>2</th>\n",
       "      <td>Self-employed</td>\n",
       "      <td>8118482425</td>\n",
       "    </tr>\n",
       "    <tr>\n",
       "      <th>3</th>\n",
       "      <td>Unemployed</td>\n",
       "      <td>8174575251</td>\n",
       "    </tr>\n",
       "  </tbody>\n",
       "</table>\n",
       "</div>"
      ],
      "text/plain": [
       "  EmploymentType  LoanAmount\n",
       "0      Full-time  8114221828\n",
       "1      Part-time  8169601068\n",
       "2  Self-employed  8118482425\n",
       "3     Unemployed  8174575251"
      ]
     },
     "execution_count": 237,
     "metadata": {},
     "output_type": "execute_result"
    }
   ],
   "source": [
    "loan_amount_by_employment"
   ]
  },
  {
   "cell_type": "markdown",
   "id": "cb5a462d",
   "metadata": {},
   "source": [
    "**Loan amount by education levels**"
   ]
  },
  {
   "cell_type": "code",
   "execution_count": 238,
   "id": "81ac31fa",
   "metadata": {},
   "outputs": [],
   "source": [
    "# Aggregate loan amount by education level\n",
    "loan_amount_by_education = loan_dataset.groupby(\"Education\")[\"LoanAmount\"].sum().reset_index()\n",
    "\n",
    "# Export to CSV\n",
    "loan_amount_by_education.to_csv(\"loan_amount_by_education.csv\", index=False)\n"
   ]
  },
  {
   "cell_type": "code",
   "execution_count": 239,
   "id": "48bfbd76",
   "metadata": {},
   "outputs": [
    {
     "data": {
      "text/html": [
       "<div>\n",
       "<style scoped>\n",
       "    .dataframe tbody tr th:only-of-type {\n",
       "        vertical-align: middle;\n",
       "    }\n",
       "\n",
       "    .dataframe tbody tr th {\n",
       "        vertical-align: top;\n",
       "    }\n",
       "\n",
       "    .dataframe thead th {\n",
       "        text-align: right;\n",
       "    }\n",
       "</style>\n",
       "<table border=\"1\" class=\"dataframe\">\n",
       "  <thead>\n",
       "    <tr style=\"text-align: right;\">\n",
       "      <th></th>\n",
       "      <th>Education</th>\n",
       "      <th>LoanAmount</th>\n",
       "    </tr>\n",
       "  </thead>\n",
       "  <tbody>\n",
       "    <tr>\n",
       "      <th>0</th>\n",
       "      <td>Bachelor's</td>\n",
       "      <td>8199625421</td>\n",
       "    </tr>\n",
       "    <tr>\n",
       "      <th>1</th>\n",
       "      <td>High School</td>\n",
       "      <td>8140838130</td>\n",
       "    </tr>\n",
       "    <tr>\n",
       "      <th>2</th>\n",
       "      <td>Master's</td>\n",
       "      <td>8114883790</td>\n",
       "    </tr>\n",
       "    <tr>\n",
       "      <th>3</th>\n",
       "      <td>PhD</td>\n",
       "      <td>8121533231</td>\n",
       "    </tr>\n",
       "  </tbody>\n",
       "</table>\n",
       "</div>"
      ],
      "text/plain": [
       "     Education  LoanAmount\n",
       "0   Bachelor's  8199625421\n",
       "1  High School  8140838130\n",
       "2     Master's  8114883790\n",
       "3          PhD  8121533231"
      ]
     },
     "execution_count": 239,
     "metadata": {},
     "output_type": "execute_result"
    }
   ],
   "source": [
    "loan_amount_by_education"
   ]
  },
  {
   "cell_type": "markdown",
   "id": "51458626",
   "metadata": {},
   "source": [
    "**Default rate analysis**"
   ]
  },
  {
   "cell_type": "code",
   "execution_count": 240,
   "id": "4e8ec135",
   "metadata": {},
   "outputs": [
    {
     "data": {
      "text/plain": [
       "0         0\n",
       "1         0\n",
       "2         1\n",
       "3         0\n",
       "4         0\n",
       "         ..\n",
       "255342    0\n",
       "255343    1\n",
       "255344    0\n",
       "255345    0\n",
       "255346    0\n",
       "Name: Default, Length: 255347, dtype: int64"
      ]
     },
     "execution_count": 240,
     "metadata": {},
     "output_type": "execute_result"
    }
   ],
   "source": [
    "loan_dataset[\"Default\"]"
   ]
  },
  {
   "cell_type": "markdown",
   "id": "bb2a56f2",
   "metadata": {},
   "source": [
    "Total number of defaulted loans"
   ]
  },
  {
   "cell_type": "code",
   "execution_count": 241,
   "id": "81839f8a",
   "metadata": {},
   "outputs": [],
   "source": [
    "# Count default values\n",
    "default_counts = loan_dataset[\"Default\"].value_counts().reset_index()\n",
    "default_counts.columns = [\"Default\", \"Count\"]\n",
    "\n",
    "# Map 0 → \"No\", 1 → \"Yes\"\n",
    "default_counts[\"Default\"] = default_counts[\"Default\"].map({0: \"No\", 1: \"Yes\"})\n",
    "\n",
    "# Export to CSV\n",
    "default_counts.to_csv(\"default_summary.csv\", index=False)\n"
   ]
  },
  {
   "cell_type": "code",
   "execution_count": 242,
   "id": "0692d185",
   "metadata": {},
   "outputs": [
    {
     "data": {
      "text/html": [
       "<div>\n",
       "<style scoped>\n",
       "    .dataframe tbody tr th:only-of-type {\n",
       "        vertical-align: middle;\n",
       "    }\n",
       "\n",
       "    .dataframe tbody tr th {\n",
       "        vertical-align: top;\n",
       "    }\n",
       "\n",
       "    .dataframe thead th {\n",
       "        text-align: right;\n",
       "    }\n",
       "</style>\n",
       "<table border=\"1\" class=\"dataframe\">\n",
       "  <thead>\n",
       "    <tr style=\"text-align: right;\">\n",
       "      <th></th>\n",
       "      <th>Default</th>\n",
       "      <th>Count</th>\n",
       "    </tr>\n",
       "  </thead>\n",
       "  <tbody>\n",
       "    <tr>\n",
       "      <th>0</th>\n",
       "      <td>No</td>\n",
       "      <td>225694</td>\n",
       "    </tr>\n",
       "    <tr>\n",
       "      <th>1</th>\n",
       "      <td>Yes</td>\n",
       "      <td>29653</td>\n",
       "    </tr>\n",
       "  </tbody>\n",
       "</table>\n",
       "</div>"
      ],
      "text/plain": [
       "  Default   Count\n",
       "0      No  225694\n",
       "1     Yes   29653"
      ]
     },
     "execution_count": 242,
     "metadata": {},
     "output_type": "execute_result"
    }
   ],
   "source": [
    "default_counts"
   ]
  },
  {
   "cell_type": "markdown",
   "id": "ad1288d9",
   "metadata": {},
   "source": [
    "**Default rate by Year**"
   ]
  },
  {
   "cell_type": "code",
   "execution_count": 243,
   "id": "55acea7b",
   "metadata": {},
   "outputs": [
    {
     "name": "stderr",
     "output_type": "stream",
     "text": [
      "C:\\Users\\ianob\\AppData\\Local\\Temp\\ipykernel_12928\\4125084191.py:2: UserWarning: Parsing dates in %d/%m/%Y format when dayfirst=False (the default) was specified. Pass `dayfirst=True` or specify a format to silence this warning.\n",
      "  loan_dataset[\"LoanYear\"] = pd.to_datetime(loan_dataset[\"Loan Date\"]).dt.year\n"
     ]
    }
   ],
   "source": [
    "# Extract year from loan date\n",
    "loan_dataset[\"LoanYear\"] = pd.to_datetime(loan_dataset[\"Loan Date\"]).dt.year\n",
    "\n",
    "# Group by year and calculate totals and default rate\n",
    "default_by_year = loan_dataset.groupby(\"LoanYear\")[\"Default\"].agg(\n",
    "    TotalLoans=\"count\",\n",
    "    NumberOfDefaults=\"sum\"\n",
    ").reset_index()\n",
    "\n",
    "# Add default rate column\n",
    "default_by_year[\"DefaultRate (%)\"] = round((\n",
    "    default_by_year[\"NumberOfDefaults\"] / default_by_year[\"TotalLoans\"]\n",
    ") * 100,2)\n",
    "default_by_year.to_csv(\"year_default_rate_summary.csv\", index=False)"
   ]
  },
  {
   "cell_type": "code",
   "execution_count": 244,
   "id": "9daf1442",
   "metadata": {},
   "outputs": [
    {
     "data": {
      "text/html": [
       "<div>\n",
       "<style scoped>\n",
       "    .dataframe tbody tr th:only-of-type {\n",
       "        vertical-align: middle;\n",
       "    }\n",
       "\n",
       "    .dataframe tbody tr th {\n",
       "        vertical-align: top;\n",
       "    }\n",
       "\n",
       "    .dataframe thead th {\n",
       "        text-align: right;\n",
       "    }\n",
       "</style>\n",
       "<table border=\"1\" class=\"dataframe\">\n",
       "  <thead>\n",
       "    <tr style=\"text-align: right;\">\n",
       "      <th></th>\n",
       "      <th>LoanYear</th>\n",
       "      <th>TotalLoans</th>\n",
       "      <th>NumberOfDefaults</th>\n",
       "      <th>DefaultRate (%)</th>\n",
       "    </tr>\n",
       "  </thead>\n",
       "  <tbody>\n",
       "    <tr>\n",
       "      <th>0</th>\n",
       "      <td>2013</td>\n",
       "      <td>42785</td>\n",
       "      <td>4973</td>\n",
       "      <td>11.62</td>\n",
       "    </tr>\n",
       "    <tr>\n",
       "      <th>1</th>\n",
       "      <td>2014</td>\n",
       "      <td>42122</td>\n",
       "      <td>4845</td>\n",
       "      <td>11.50</td>\n",
       "    </tr>\n",
       "    <tr>\n",
       "      <th>2</th>\n",
       "      <td>2015</td>\n",
       "      <td>42521</td>\n",
       "      <td>4976</td>\n",
       "      <td>11.70</td>\n",
       "    </tr>\n",
       "    <tr>\n",
       "      <th>3</th>\n",
       "      <td>2016</td>\n",
       "      <td>42705</td>\n",
       "      <td>5017</td>\n",
       "      <td>11.75</td>\n",
       "    </tr>\n",
       "    <tr>\n",
       "      <th>4</th>\n",
       "      <td>2017</td>\n",
       "      <td>42377</td>\n",
       "      <td>4875</td>\n",
       "      <td>11.50</td>\n",
       "    </tr>\n",
       "    <tr>\n",
       "      <th>5</th>\n",
       "      <td>2018</td>\n",
       "      <td>42837</td>\n",
       "      <td>4967</td>\n",
       "      <td>11.60</td>\n",
       "    </tr>\n",
       "  </tbody>\n",
       "</table>\n",
       "</div>"
      ],
      "text/plain": [
       "   LoanYear  TotalLoans  NumberOfDefaults  DefaultRate (%)\n",
       "0      2013       42785              4973            11.62\n",
       "1      2014       42122              4845            11.50\n",
       "2      2015       42521              4976            11.70\n",
       "3      2016       42705              5017            11.75\n",
       "4      2017       42377              4875            11.50\n",
       "5      2018       42837              4967            11.60"
      ]
     },
     "execution_count": 244,
     "metadata": {},
     "output_type": "execute_result"
    }
   ],
   "source": [
    "default_by_year"
   ]
  },
  {
   "cell_type": "markdown",
   "id": "e775467e",
   "metadata": {},
   "source": [
    "**Default rate by employment**"
   ]
  },
  {
   "cell_type": "code",
   "execution_count": 245,
   "id": "c55698f9",
   "metadata": {},
   "outputs": [],
   "source": [
    "#Comparing the employment type and the default rate\n",
    "\n",
    "default_by_employment = loan_dataset.groupby(\"EmploymentType\")[\"Default\"].agg(Total_Loans=\"count\",Defaults=\"sum\").reset_index()\n",
    "\n",
    "#Calculating the default rate percentage\n",
    "\n",
    "default_by_employment[\"DefaultRate\"] = (default_by_employment[\"Defaults\"] / default_by_employment[\"Total_Loans\"] * 100).round(2)\n",
    "\n",
    "default_by_employment.to_csv(\"employment_default_rate_summary.csv\", index=False)"
   ]
  },
  {
   "cell_type": "code",
   "execution_count": 246,
   "id": "1be5868e",
   "metadata": {},
   "outputs": [
    {
     "data": {
      "text/html": [
       "<div>\n",
       "<style scoped>\n",
       "    .dataframe tbody tr th:only-of-type {\n",
       "        vertical-align: middle;\n",
       "    }\n",
       "\n",
       "    .dataframe tbody tr th {\n",
       "        vertical-align: top;\n",
       "    }\n",
       "\n",
       "    .dataframe thead th {\n",
       "        text-align: right;\n",
       "    }\n",
       "</style>\n",
       "<table border=\"1\" class=\"dataframe\">\n",
       "  <thead>\n",
       "    <tr style=\"text-align: right;\">\n",
       "      <th></th>\n",
       "      <th>EmploymentType</th>\n",
       "      <th>Total_Loans</th>\n",
       "      <th>Defaults</th>\n",
       "      <th>DefaultRate</th>\n",
       "    </tr>\n",
       "  </thead>\n",
       "  <tbody>\n",
       "    <tr>\n",
       "      <th>0</th>\n",
       "      <td>Full-time</td>\n",
       "      <td>63656</td>\n",
       "      <td>6024</td>\n",
       "      <td>9.46</td>\n",
       "    </tr>\n",
       "    <tr>\n",
       "      <th>1</th>\n",
       "      <td>Part-time</td>\n",
       "      <td>64161</td>\n",
       "      <td>7677</td>\n",
       "      <td>11.97</td>\n",
       "    </tr>\n",
       "    <tr>\n",
       "      <th>2</th>\n",
       "      <td>Self-employed</td>\n",
       "      <td>63706</td>\n",
       "      <td>7302</td>\n",
       "      <td>11.46</td>\n",
       "    </tr>\n",
       "    <tr>\n",
       "      <th>3</th>\n",
       "      <td>Unemployed</td>\n",
       "      <td>63824</td>\n",
       "      <td>8650</td>\n",
       "      <td>13.55</td>\n",
       "    </tr>\n",
       "  </tbody>\n",
       "</table>\n",
       "</div>"
      ],
      "text/plain": [
       "  EmploymentType  Total_Loans  Defaults  DefaultRate\n",
       "0      Full-time        63656      6024         9.46\n",
       "1      Part-time        64161      7677        11.97\n",
       "2  Self-employed        63706      7302        11.46\n",
       "3     Unemployed        63824      8650        13.55"
      ]
     },
     "execution_count": 246,
     "metadata": {},
     "output_type": "execute_result"
    }
   ],
   "source": [
    "default_by_employment"
   ]
  }
 ],
 "metadata": {
  "kernelspec": {
   "display_name": "Python 3",
   "language": "python",
   "name": "python3"
  },
  "language_info": {
   "codemirror_mode": {
    "name": "ipython",
    "version": 3
   },
   "file_extension": ".py",
   "mimetype": "text/x-python",
   "name": "python",
   "nbconvert_exporter": "python",
   "pygments_lexer": "ipython3",
   "version": "3.13.5"
  }
 },
 "nbformat": 4,
 "nbformat_minor": 5
}
